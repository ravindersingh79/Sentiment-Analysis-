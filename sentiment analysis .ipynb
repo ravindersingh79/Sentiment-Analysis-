{
 "cells": [
  {
   "cell_type": "code",
   "execution_count": 1,
   "id": "6047533f",
   "metadata": {},
   "outputs": [],
   "source": [
    "import pandas as pd \n",
    "import re\n",
    "import warnings\n",
    "import nltk\n",
    "from nltk.corpus import stopwords\n",
    "from sklearn.feature_extraction.text import CountVectorizer\n",
    "warnings.filterwarnings('ignore')"
   ]
  },
  {
   "cell_type": "code",
   "execution_count": 2,
   "id": "ea84ff1c",
   "metadata": {},
   "outputs": [],
   "source": [
    "file = pd.read_csv(r\"C:\\Users\\ravin\\Downloads\\bank_reviews3.csv\")"
   ]
  },
  {
   "cell_type": "code",
   "execution_count": 3,
   "id": "1224f718",
   "metadata": {},
   "outputs": [],
   "source": [
    "x = file[['review']]\n",
    "y1 = file['rating']"
   ]
  },
  {
   "cell_type": "code",
   "execution_count": 4,
   "id": "054bc9c4",
   "metadata": {},
   "outputs": [
    {
     "data": {
      "text/html": [
       "<div>\n",
       "<style scoped>\n",
       "    .dataframe tbody tr th:only-of-type {\n",
       "        vertical-align: middle;\n",
       "    }\n",
       "\n",
       "    .dataframe tbody tr th {\n",
       "        vertical-align: top;\n",
       "    }\n",
       "\n",
       "    .dataframe thead th {\n",
       "        text-align: right;\n",
       "    }\n",
       "</style>\n",
       "<table border=\"1\" class=\"dataframe\">\n",
       "  <thead>\n",
       "    <tr style=\"text-align: right;\">\n",
       "      <th></th>\n",
       "      <th>review</th>\n",
       "    </tr>\n",
       "  </thead>\n",
       "  <tbody>\n",
       "    <tr>\n",
       "      <th>0</th>\n",
       "      <td>State Bank Of India is located nearby in our a...</td>\n",
       "    </tr>\n",
       "    <tr>\n",
       "      <th>1</th>\n",
       "      <td>I have my salary account in SBI, when I applie...</td>\n",
       "    </tr>\n",
       "    <tr>\n",
       "      <th>2</th>\n",
       "      <td>I am using Axis bank saving account for the  p...</td>\n",
       "    </tr>\n",
       "    <tr>\n",
       "      <th>3</th>\n",
       "      <td>I have my salary bank account in HDFC bank for...</td>\n",
       "    </tr>\n",
       "    <tr>\n",
       "      <th>4</th>\n",
       "      <td>Close to around 10 years, I am holding this Co...</td>\n",
       "    </tr>\n",
       "    <tr>\n",
       "      <th>...</th>\n",
       "      <td>...</td>\n",
       "    </tr>\n",
       "    <tr>\n",
       "      <th>995</th>\n",
       "      <td>I am holding a saving account with FEDERAL ban...</td>\n",
       "    </tr>\n",
       "    <tr>\n",
       "      <th>996</th>\n",
       "      <td>There is no mandatory balance to keep in my Ax...</td>\n",
       "    </tr>\n",
       "    <tr>\n",
       "      <th>997</th>\n",
       "      <td>In Axis bank, every month they are charging me...</td>\n",
       "    </tr>\n",
       "    <tr>\n",
       "      <th>998</th>\n",
       "      <td>I have a salary account with AXIS bank and I h...</td>\n",
       "    </tr>\n",
       "    <tr>\n",
       "      <th>999</th>\n",
       "      <td>Opened the savings account with Union bank of ...</td>\n",
       "    </tr>\n",
       "  </tbody>\n",
       "</table>\n",
       "<p>1000 rows × 1 columns</p>\n",
       "</div>"
      ],
      "text/plain": [
       "                                                review\n",
       "0    State Bank Of India is located nearby in our a...\n",
       "1    I have my salary account in SBI, when I applie...\n",
       "2    I am using Axis bank saving account for the  p...\n",
       "3    I have my salary bank account in HDFC bank for...\n",
       "4    Close to around 10 years, I am holding this Co...\n",
       "..                                                 ...\n",
       "995  I am holding a saving account with FEDERAL ban...\n",
       "996  There is no mandatory balance to keep in my Ax...\n",
       "997  In Axis bank, every month they are charging me...\n",
       "998  I have a salary account with AXIS bank and I h...\n",
       "999  Opened the savings account with Union bank of ...\n",
       "\n",
       "[1000 rows x 1 columns]"
      ]
     },
     "execution_count": 4,
     "metadata": {},
     "output_type": "execute_result"
    }
   ],
   "source": [
    "x"
   ]
  },
  {
   "cell_type": "markdown",
   "id": "25625d50",
   "metadata": {},
   "source": [
    "# Toennizations"
   ]
  },
  {
   "cell_type": "code",
   "execution_count": 5,
   "id": "2e085907",
   "metadata": {},
   "outputs": [],
   "source": [
    "din = []"
   ]
  },
  {
   "cell_type": "code",
   "execution_count": 6,
   "id": "e90e5783",
   "metadata": {},
   "outputs": [],
   "source": [
    "for i in x['review']:\n",
    "    tokens1 = re.findall(r'\\b\\w+\\b', str(i))\n",
    "    din.append(tokens1)\n",
    "    "
   ]
  },
  {
   "cell_type": "code",
   "execution_count": null,
   "id": "c13d3ffb",
   "metadata": {},
   "outputs": [],
   "source": [
    "for i in title3:\n",
    "    tokens1 = re.findall(r'\\b\\w+\\b', str(i))\n",
    "    print(tokens1)"
   ]
  },
  {
   "cell_type": "markdown",
   "id": "56a4f972",
   "metadata": {},
   "source": [
    "# Removing Stopwords"
   ]
  },
  {
   "cell_type": "code",
   "execution_count": 7,
   "id": "dd2c976e",
   "metadata": {},
   "outputs": [
    {
     "name": "stderr",
     "output_type": "stream",
     "text": [
      "[nltk_data] Downloading package stopwords to\n",
      "[nltk_data]     C:\\Users\\ravin\\AppData\\Roaming\\nltk_data...\n",
      "[nltk_data]   Package stopwords is already up-to-date!\n"
     ]
    }
   ],
   "source": [
    "nltk.download('stopwords')\n",
    "stop_words = set(stopwords.words('english'))\n",
    "\n",
    "def preprocess_text(sentence):\n",
    "    tokens = nltk.word_tokenize(sentence)\n",
    "    tokens = [word.lower() for word in tokens if word.isalpha() and word.lower() not in stop_words]\n",
    "    return ' '.join(tokens)\n",
    "\n"
   ]
  },
  {
   "cell_type": "code",
   "execution_count": 8,
   "id": "1ef8b3b6",
   "metadata": {},
   "outputs": [],
   "source": [
    "x_processed = [' '.join([preprocess_text(word) for word in sentence]) for sentence in din]"
   ]
  },
  {
   "cell_type": "markdown",
   "id": "4e2c6877",
   "metadata": {},
   "source": [
    "# remove extra space "
   ]
  },
  {
   "cell_type": "code",
   "execution_count": 9,
   "id": "9f21a5b1",
   "metadata": {},
   "outputs": [],
   "source": [
    "corrected = []"
   ]
  },
  {
   "cell_type": "code",
   "execution_count": 10,
   "id": "55105dea",
   "metadata": {},
   "outputs": [],
   "source": [
    "for words in x_processed:\n",
    "    data = re.sub(r'\\s+',' ',words)\n",
    "    corrected.append(data)"
   ]
  },
  {
   "cell_type": "code",
   "execution_count": null,
   "id": "e644d70a",
   "metadata": {},
   "outputs": [],
   "source": []
  },
  {
   "cell_type": "markdown",
   "id": "9a5e5551",
   "metadata": {},
   "source": [
    "# Label Encoder"
   ]
  },
  {
   "cell_type": "code",
   "execution_count": 11,
   "id": "fb44e8ae",
   "metadata": {},
   "outputs": [],
   "source": [
    "import numpy as np"
   ]
  },
  {
   "cell_type": "code",
   "execution_count": 12,
   "id": "528f93ea",
   "metadata": {},
   "outputs": [],
   "source": [
    "label = pd.DataFrame(np.array(y1), columns=['output'])"
   ]
  },
  {
   "cell_type": "code",
   "execution_count": 13,
   "id": "8d725b3c",
   "metadata": {},
   "outputs": [],
   "source": [
    "def convert(df, column='enter'):\n",
    "    data = []\n",
    "    datan = []\n",
    "    for i in df[column]:\n",
    "        if i >= 4:\n",
    "            data.append('positive')\n",
    "            datan.append(2)\n",
    "        elif i < 4 and i >= 2:\n",
    "            data.append('neutral')\n",
    "            datan.append(1)\n",
    "        else:\n",
    "            data.append('negtive')\n",
    "            datan.append(0)\n",
    "    return data, datan"
   ]
  },
  {
   "cell_type": "code",
   "execution_count": 14,
   "id": "604dc3a8",
   "metadata": {},
   "outputs": [],
   "source": [
    "data, datan = convert(label, column='output')"
   ]
  },
  {
   "cell_type": "code",
   "execution_count": 15,
   "id": "fb52d7ef",
   "metadata": {},
   "outputs": [],
   "source": [
    "output = np.array(datan)"
   ]
  },
  {
   "cell_type": "code",
   "execution_count": 16,
   "id": "f4b0082f",
   "metadata": {},
   "outputs": [
    {
     "data": {
      "text/plain": [
       "array([2, 2, 2, 2, 2, 2, 2, 2, 2, 2, 2, 2, 2, 1, 2, 2, 2, 2, 1, 2, 2, 2,\n",
       "       2, 2, 2, 2, 2, 2, 1, 2, 2, 2, 2, 2, 2, 2, 2, 1, 2, 2, 2, 2, 2, 2,\n",
       "       2, 2, 2, 2, 2, 2, 2, 2, 2, 1, 2, 2, 2, 2, 2, 2, 1, 2, 2, 2, 2, 2,\n",
       "       2, 2, 1, 2, 2, 2, 2, 2, 0, 2, 2, 2, 2, 1, 1, 2, 2, 2, 2, 2, 2, 1,\n",
       "       2, 2, 1, 2, 1, 2, 2, 2, 2, 2, 2, 2, 2, 2, 2, 2, 2, 1, 1, 2, 2, 2,\n",
       "       2, 2, 2, 2, 2, 1, 2, 2, 2, 2, 1, 2, 2, 2, 2, 2, 2, 2, 2, 1, 2, 2,\n",
       "       2, 2, 2, 2, 2, 2, 2, 2, 2, 2, 2, 1, 2, 2, 2, 2, 2, 2, 2, 2, 2, 2,\n",
       "       2, 2, 2, 2, 2, 2, 2, 2, 2, 2, 0, 1, 1, 2, 2, 2, 1, 2, 2, 2, 2, 1,\n",
       "       2, 2, 2, 2, 2, 2, 2, 2, 2, 2, 2, 2, 2, 2, 2, 2, 0, 2, 2, 2, 2, 2,\n",
       "       1, 2, 2, 2, 2, 2, 2, 2, 2, 2, 0, 2, 2, 2, 2, 2, 2, 2, 2, 2, 2, 2,\n",
       "       2, 1, 2, 2, 2, 2, 2, 2, 2, 0, 2, 2, 1, 0, 2, 2, 2, 2, 2, 2, 2, 2,\n",
       "       2, 2, 2, 2, 2, 2, 2, 2, 2, 2, 2, 2, 2, 2, 2, 2, 0, 2, 2, 0, 2, 2,\n",
       "       2, 2, 2, 2, 2, 2, 2, 2, 1, 2, 2, 2, 2, 2, 2, 2, 2, 0, 1, 2, 2, 2,\n",
       "       2, 2, 2, 2, 2, 2, 2, 2, 2, 1, 2, 1, 1, 1, 2, 2, 2, 2, 2, 2, 2, 2,\n",
       "       2, 2, 2, 2, 2, 1, 2, 2, 2, 2, 2, 2, 2, 2, 2, 2, 2, 1, 2, 1, 2, 1,\n",
       "       2, 2, 2, 2, 2, 2, 2, 2, 2, 2, 2, 2, 2, 2, 2, 2, 2, 2, 2, 2, 2, 2,\n",
       "       2, 2, 2, 2, 2, 1, 2, 2, 2, 2, 2, 2, 2, 2, 1, 2, 2, 2, 1, 2, 2, 2,\n",
       "       2, 2, 0, 2, 2, 2, 2, 2, 2, 2, 2, 2, 2, 1, 2, 2, 1, 1, 2, 1, 2, 2,\n",
       "       2, 1, 2, 2, 2, 2, 2, 2, 2, 2, 2, 2, 2, 2, 2, 2, 2, 2, 2, 2, 2, 2,\n",
       "       2, 2, 2, 2, 1, 2, 2, 1, 2, 2, 1, 1, 1, 2, 2, 2, 2, 2, 2, 2, 1, 2,\n",
       "       0, 2, 2, 2, 0, 2, 2, 2, 2, 2, 2, 2, 2, 2, 2, 2, 2, 2, 2, 2, 2, 2,\n",
       "       2, 2, 2, 2, 0, 2, 2, 2, 2, 2, 2, 2, 2, 2, 2, 2, 2, 2, 2, 2, 2, 2,\n",
       "       2, 2, 2, 2, 2, 2, 1, 2, 1, 2, 2, 2, 2, 1, 2, 2, 2, 2, 2, 2, 2, 2,\n",
       "       2, 2, 1, 2, 2, 2, 2, 2, 2, 2, 2, 1, 2, 2, 1, 2, 2, 2, 2, 2, 2, 1,\n",
       "       2, 1, 1, 1, 2, 2, 2, 1, 2, 2, 1, 2, 2, 2, 2, 2, 2, 2, 1, 1, 2, 2,\n",
       "       2, 2, 2, 2, 2, 2, 2, 2, 2, 2, 2, 2, 2, 2, 2, 2, 1, 2, 2, 2, 2, 1,\n",
       "       1, 2, 2, 2, 2, 2, 2, 2, 2, 2, 2, 2, 2, 1, 2, 2, 2, 2, 2, 2, 2, 2,\n",
       "       2, 2, 2, 2, 1, 1, 2, 2, 2, 2, 2, 1, 2, 1, 2, 2, 1, 1, 2, 2, 2, 2,\n",
       "       2, 0, 2, 2, 2, 2, 2, 2, 2, 2, 2, 2, 2, 2, 2, 2, 2, 2, 2, 2, 2, 1,\n",
       "       2, 2, 2, 2, 2, 2, 2, 2, 2, 2, 2, 2, 2, 2, 2, 2, 2, 2, 0, 2, 2, 2,\n",
       "       1, 2, 1, 2, 2, 1, 2, 2, 2, 2, 2, 1, 2, 2, 2, 1, 2, 2, 2, 2, 2, 2,\n",
       "       1, 2, 2, 1, 2, 2, 1, 2, 2, 1, 2, 2, 2, 1, 1, 2, 2, 2, 2, 2, 2, 1,\n",
       "       2, 2, 2, 2, 2, 2, 2, 1, 2, 0, 2, 1, 2, 2, 2, 2, 2, 2, 2, 2, 2, 1,\n",
       "       2, 1, 2, 2, 2, 2, 2, 2, 2, 2, 1, 2, 2, 1, 2, 2, 2, 2, 2, 2, 2, 2,\n",
       "       1, 1, 2, 2, 1, 2, 2, 1, 2, 2, 2, 2, 2, 2, 2, 2, 2, 2, 2, 2, 1, 1,\n",
       "       2, 2, 2, 2, 2, 2, 2, 0, 2, 2, 2, 2, 2, 2, 2, 2, 2, 1, 2, 2, 2, 2,\n",
       "       2, 2, 2, 2, 2, 2, 0, 2, 2, 2, 2, 2, 2, 2, 2, 2, 2, 2, 2, 2, 2, 2,\n",
       "       2, 2, 2, 2, 2, 2, 2, 2, 1, 2, 2, 2, 2, 2, 2, 2, 2, 2, 2, 2, 2, 2,\n",
       "       2, 1, 0, 2, 1, 2, 2, 2, 2, 1, 2, 2, 2, 0, 2, 2, 2, 2, 2, 2, 2, 1,\n",
       "       2, 2, 1, 2, 2, 2, 2, 2, 2, 2, 2, 2, 2, 2, 2, 2, 1, 1, 2, 2, 2, 2,\n",
       "       0, 2, 2, 1, 2, 2, 2, 2, 2, 2, 2, 2, 2, 2, 2, 1, 2, 2, 1, 1, 1, 2,\n",
       "       2, 2, 2, 2, 2, 2, 0, 2, 1, 2, 0, 2, 2, 2, 2, 2, 2, 2, 2, 2, 2, 2,\n",
       "       2, 2, 2, 2, 2, 2, 1, 2, 1, 2, 2, 1, 2, 2, 2, 2, 2, 2, 2, 2, 2, 2,\n",
       "       2, 2, 2, 2, 1, 2, 2, 2, 2, 2, 1, 2, 2, 2, 2, 2, 1, 2, 2, 1, 2, 2,\n",
       "       2, 1, 2, 2, 2, 2, 2, 2, 2, 0, 2, 2, 2, 2, 2, 2, 2, 2, 2, 2, 2, 2,\n",
       "       2, 2, 1, 2, 1, 1, 2, 2, 2, 2])"
      ]
     },
     "execution_count": 16,
     "metadata": {},
     "output_type": "execute_result"
    }
   ],
   "source": [
    "output"
   ]
  },
  {
   "cell_type": "code",
   "execution_count": 17,
   "id": "aa2e8351",
   "metadata": {},
   "outputs": [],
   "source": [
    "from sklearn.feature_extraction.text import CountVectorizer\n",
    "vectorizer = CountVectorizer()\n",
    "X_vector = vectorizer.fit_transform(corrected).toarray()\n"
   ]
  },
  {
   "cell_type": "code",
   "execution_count": 18,
   "id": "fefc8f38",
   "metadata": {},
   "outputs": [
    {
     "data": {
      "text/plain": [
       "(1000, 1372)"
      ]
     },
     "execution_count": 18,
     "metadata": {},
     "output_type": "execute_result"
    }
   ],
   "source": [
    "X_vector.shape"
   ]
  },
  {
   "cell_type": "code",
   "execution_count": null,
   "id": "27349661",
   "metadata": {},
   "outputs": [],
   "source": []
  },
  {
   "cell_type": "markdown",
   "id": "c8420827",
   "metadata": {},
   "source": [
    "# imbalance dataset"
   ]
  },
  {
   "cell_type": "code",
   "execution_count": 19,
   "id": "19a9a1a2",
   "metadata": {},
   "outputs": [],
   "source": [
    "from imblearn.over_sampling import SMOTE"
   ]
  },
  {
   "cell_type": "code",
   "execution_count": 20,
   "id": "4bd3a863",
   "metadata": {},
   "outputs": [],
   "source": [
    "smote = SMOTE(random_state=42)\n",
    "\n",
    "\n",
    "x_resampled, y_resampled = smote.fit_resample(X_vector, output)"
   ]
  },
  {
   "cell_type": "code",
   "execution_count": 21,
   "id": "27b2e8e1",
   "metadata": {},
   "outputs": [],
   "source": [
    "y_actual = pd.DataFrame(y_resampled, columns=['actual'])"
   ]
  },
  {
   "cell_type": "code",
   "execution_count": 22,
   "id": "e2814505",
   "metadata": {},
   "outputs": [
    {
     "data": {
      "text/plain": [
       "2    852\n",
       "1    852\n",
       "0    852\n",
       "Name: actual, dtype: int64"
      ]
     },
     "execution_count": 22,
     "metadata": {},
     "output_type": "execute_result"
    }
   ],
   "source": [
    "y_actual['actual'].value_counts()"
   ]
  },
  {
   "cell_type": "code",
   "execution_count": 23,
   "id": "cbc7894b",
   "metadata": {},
   "outputs": [
    {
     "data": {
      "text/plain": [
       "array([[0, 0, 0, ..., 0, 0, 0],\n",
       "       [0, 0, 0, ..., 0, 0, 0],\n",
       "       [0, 0, 0, ..., 0, 0, 0],\n",
       "       ...,\n",
       "       [0, 0, 0, ..., 0, 0, 0],\n",
       "       [0, 0, 0, ..., 0, 1, 0],\n",
       "       [0, 0, 0, ..., 0, 0, 0]], dtype=int64)"
      ]
     },
     "execution_count": 23,
     "metadata": {},
     "output_type": "execute_result"
    }
   ],
   "source": [
    "x_resampled"
   ]
  },
  {
   "cell_type": "code",
   "execution_count": null,
   "id": "6edafe47",
   "metadata": {},
   "outputs": [],
   "source": []
  },
  {
   "cell_type": "markdown",
   "id": "4ef53d6f",
   "metadata": {},
   "source": [
    "# Train test SPlit"
   ]
  },
  {
   "cell_type": "code",
   "execution_count": 40,
   "id": "8a2c87c3",
   "metadata": {},
   "outputs": [],
   "source": [
    "from sklearn.model_selection import train_test_split\n"
   ]
  },
  {
   "cell_type": "code",
   "execution_count": 41,
   "id": "245ac1c8",
   "metadata": {},
   "outputs": [],
   "source": [
    "X_train, X_test, y_train, y_test = train_test_split(x_resampled, y_actual['actual'], test_size=0.2, random_state=42)"
   ]
  },
  {
   "cell_type": "markdown",
   "id": "e3e9d5db",
   "metadata": {},
   "source": [
    "# Model"
   ]
  },
  {
   "cell_type": "code",
   "execution_count": 48,
   "id": "3d7b4f9d",
   "metadata": {},
   "outputs": [],
   "source": [
    "import numpy as np\n",
    "import pandas as pd\n",
    "from tensorflow.keras.preprocessing.text import Tokenizer\n",
    "from tensorflow.keras.preprocessing.sequence import pad_sequences\n",
    "from tensorflow.keras.models import Sequential\n",
    "from tensorflow.keras.layers import Embedding, LSTM, Dense, Bidirectional, Dropout\n",
    "from sklearn.model_selection import train_test_split"
   ]
  },
  {
   "cell_type": "code",
   "execution_count": 46,
   "id": "51ece34c",
   "metadata": {},
   "outputs": [
    {
     "name": "stdout",
     "output_type": "stream",
     "text": [
      "Epoch 1/15\n",
      "64/64 [==============================] - 92s 1s/step - loss: 1.0968 - accuracy: 0.3434 - val_loss: 1.0860 - val_accuracy: 0.4043\n",
      "Epoch 2/15\n",
      "64/64 [==============================] - 77s 1s/step - loss: 1.0466 - accuracy: 0.4653 - val_loss: 0.9938 - val_accuracy: 0.5352\n",
      "Epoch 3/15\n",
      "64/64 [==============================] - 77s 1s/step - loss: 0.9451 - accuracy: 0.5484 - val_loss: 0.9436 - val_accuracy: 0.5371\n",
      "Epoch 4/15\n",
      "64/64 [==============================] - 78s 1s/step - loss: 0.8927 - accuracy: 0.5822 - val_loss: 0.8790 - val_accuracy: 0.5781\n",
      "Epoch 5/15\n",
      "64/64 [==============================] - 78s 1s/step - loss: 0.9044 - accuracy: 0.5778 - val_loss: 0.8828 - val_accuracy: 0.5879\n",
      "Epoch 6/15\n",
      "64/64 [==============================] - 79s 1s/step - loss: 0.8587 - accuracy: 0.6091 - val_loss: 0.8544 - val_accuracy: 0.5977\n",
      "Epoch 7/15\n",
      "64/64 [==============================] - 79s 1s/step - loss: 0.8695 - accuracy: 0.5930 - val_loss: 0.8229 - val_accuracy: 0.5762\n",
      "Epoch 8/15\n",
      "64/64 [==============================] - 79s 1s/step - loss: 0.8375 - accuracy: 0.5934 - val_loss: 1.0452 - val_accuracy: 0.5605\n",
      "Epoch 9/15\n",
      "64/64 [==============================] - 79s 1s/step - loss: 0.9936 - accuracy: 0.5201 - val_loss: 0.9637 - val_accuracy: 0.5352\n",
      "Epoch 10/15\n",
      "64/64 [==============================] - 79s 1s/step - loss: 0.9493 - accuracy: 0.5161 - val_loss: 0.9385 - val_accuracy: 0.5176\n",
      "Epoch 11/15\n",
      "64/64 [==============================] - 78s 1s/step - loss: 0.9308 - accuracy: 0.5528 - val_loss: 0.9281 - val_accuracy: 0.5840\n",
      "Epoch 12/15\n",
      "64/64 [==============================] - 79s 1s/step - loss: 0.9248 - accuracy: 0.5631 - val_loss: 0.9262 - val_accuracy: 0.5273\n",
      "Epoch 13/15\n",
      "64/64 [==============================] - 79s 1s/step - loss: 0.9138 - accuracy: 0.5460 - val_loss: 0.9242 - val_accuracy: 0.5293\n",
      "Epoch 14/15\n",
      "64/64 [==============================] - 79s 1s/step - loss: 0.8946 - accuracy: 0.5783 - val_loss: 0.8850 - val_accuracy: 0.5586\n",
      "Epoch 15/15\n",
      "64/64 [==============================] - 79s 1s/step - loss: 0.8014 - accuracy: 0.6321 - val_loss: 0.8349 - val_accuracy: 0.6406\n"
     ]
    },
    {
     "data": {
      "text/plain": [
       "<keras.src.callbacks.History at 0x22e54b2c690>"
      ]
     },
     "execution_count": 46,
     "metadata": {},
     "output_type": "execute_result"
    }
   ],
   "source": [
    "embedding_dim = 16\n",
    "\n",
    "model = Sequential()\n",
    "model.add(Embedding(input_dim=1372, output_dim=32, input_length=1372))\n",
    "model.add(Bidirectional(LSTM(40)))  # Wrap an LSTM layer with bidirectional processing\n",
    "\n",
    "model.add(Dense(3, activation='softmax'))  \n",
    "\n",
    "# Compile the model\n",
    "model.compile(optimizer='adam', loss='sparse_categorical_crossentropy', metrics=['accuracy'])\n",
    "\n",
    "# Train the model\n",
    "model.fit(X_train, y_train, epochs=15, validation_data=(X_test, y_test))\n"
   ]
  },
  {
   "cell_type": "code",
   "execution_count": null,
   "id": "2a625c3b",
   "metadata": {},
   "outputs": [],
   "source": []
  },
  {
   "cell_type": "code",
   "execution_count": null,
   "id": "b945b8f4",
   "metadata": {},
   "outputs": [],
   "source": []
  },
  {
   "cell_type": "code",
   "execution_count": 50,
   "id": "1123d7b4",
   "metadata": {},
   "outputs": [
    {
     "name": "stdout",
     "output_type": "stream",
     "text": [
      "Epoch 1/15\n",
      "64/64 [==============================] - 151s 2s/step - loss: 1.0976 - accuracy: 0.3420 - val_loss: 1.0890 - val_accuracy: 0.5039\n",
      "Epoch 2/15\n",
      "64/64 [==============================] - 143s 2s/step - loss: 1.0531 - accuracy: 0.4662 - val_loss: 0.9975 - val_accuracy: 0.5352\n",
      "Epoch 3/15\n",
      "64/64 [==============================] - 143s 2s/step - loss: 0.9539 - accuracy: 0.5396 - val_loss: 0.9508 - val_accuracy: 0.5449\n",
      "Epoch 4/15\n",
      "64/64 [==============================] - 143s 2s/step - loss: 0.9041 - accuracy: 0.5807 - val_loss: 0.7953 - val_accuracy: 0.6289\n",
      "Epoch 5/15\n",
      "64/64 [==============================] - 147s 2s/step - loss: 0.9433 - accuracy: 0.5435 - val_loss: 1.0243 - val_accuracy: 0.4746\n",
      "Epoch 6/15\n",
      "64/64 [==============================] - 146s 2s/step - loss: 0.9868 - accuracy: 0.5044 - val_loss: 0.9427 - val_accuracy: 0.5234\n",
      "Epoch 7/15\n",
      "64/64 [==============================] - 144s 2s/step - loss: 0.9499 - accuracy: 0.5230 - val_loss: 0.9393 - val_accuracy: 0.5215\n",
      "Epoch 8/15\n",
      "64/64 [==============================] - 146s 2s/step - loss: 0.9550 - accuracy: 0.5191 - val_loss: 0.9794 - val_accuracy: 0.5312\n",
      "Epoch 9/15\n",
      "64/64 [==============================] - 144s 2s/step - loss: 0.9408 - accuracy: 0.5440 - val_loss: 0.9171 - val_accuracy: 0.5703\n",
      "Epoch 10/15\n",
      "64/64 [==============================] - 144s 2s/step - loss: 0.9349 - accuracy: 0.5582 - val_loss: 0.9166 - val_accuracy: 0.5645\n",
      "Epoch 11/15\n",
      "64/64 [==============================] - 143s 2s/step - loss: 0.9330 - accuracy: 0.5592 - val_loss: 1.0902 - val_accuracy: 0.4727\n",
      "Epoch 12/15\n",
      "64/64 [==============================] - 141s 2s/step - loss: 0.9730 - accuracy: 0.4902 - val_loss: 0.9126 - val_accuracy: 0.5371\n",
      "Epoch 13/15\n",
      "64/64 [==============================] - 141s 2s/step - loss: 0.9190 - accuracy: 0.5514 - val_loss: 0.8707 - val_accuracy: 0.5938\n",
      "Epoch 14/15\n",
      "64/64 [==============================] - 143s 2s/step - loss: 0.9248 - accuracy: 0.5499 - val_loss: 0.9054 - val_accuracy: 0.5449\n",
      "Epoch 15/15\n",
      "64/64 [==============================] - 141s 2s/step - loss: 0.9272 - accuracy: 0.5382 - val_loss: 0.9004 - val_accuracy: 0.5312\n"
     ]
    },
    {
     "data": {
      "text/plain": [
       "<keras.src.callbacks.History at 0x22e54bac5d0>"
      ]
     },
     "execution_count": 50,
     "metadata": {},
     "output_type": "execute_result"
    }
   ],
   "source": [
    "embedding_dim = 18\n",
    "\n",
    "model1 = Sequential()\n",
    "model1.add(Embedding(input_dim=1372, output_dim=embedding_dim, input_length=1372))\n",
    "model1.add(LSTM(40, return_sequences=True))  # return_sequences=True for stacking LSTM layers\n",
    "model1.add(LSTM(40)) \n",
    "model1.add(Dropout(0.2))  \n",
    "\n",
    "model1.add(Dense(3, activation='softmax'))\n",
    "\n",
    "# Compile the model\n",
    "model1.compile(optimizer='adam', loss='sparse_categorical_crossentropy', metrics=['accuracy'])\n",
    "model1.fit(X_train, y_train, epochs=15, validation_data=(X_test, y_test))\n"
   ]
  },
  {
   "cell_type": "code",
   "execution_count": null,
   "id": "eb739505",
   "metadata": {},
   "outputs": [],
   "source": []
  },
  {
   "cell_type": "code",
   "execution_count": null,
   "id": "d72f5c73",
   "metadata": {},
   "outputs": [],
   "source": []
  },
  {
   "cell_type": "code",
   "execution_count": null,
   "id": "7ad6c894",
   "metadata": {},
   "outputs": [],
   "source": []
  },
  {
   "cell_type": "code",
   "execution_count": null,
   "id": "baf64d80",
   "metadata": {},
   "outputs": [],
   "source": []
  },
  {
   "cell_type": "code",
   "execution_count": null,
   "id": "064121c9",
   "metadata": {},
   "outputs": [],
   "source": []
  }
 ],
 "metadata": {
  "kernelspec": {
   "display_name": "Python 3 (ipykernel)",
   "language": "python",
   "name": "python3"
  },
  "language_info": {
   "codemirror_mode": {
    "name": "ipython",
    "version": 3
   },
   "file_extension": ".py",
   "mimetype": "text/x-python",
   "name": "python",
   "nbconvert_exporter": "python",
   "pygments_lexer": "ipython3",
   "version": "3.11.4"
  }
 },
 "nbformat": 4,
 "nbformat_minor": 5
}
